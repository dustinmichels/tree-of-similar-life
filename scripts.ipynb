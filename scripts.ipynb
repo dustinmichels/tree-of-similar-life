{
 "cells": [
  {
   "cell_type": "code",
   "execution_count": 1,
   "metadata": {
    "collapsed": true
   },
   "outputs": [],
   "source": [
    "import numpy as np\n",
    "import pandas as pd"
   ]
  },
  {
   "cell_type": "code",
   "execution_count": 2,
   "metadata": {
    "collapsed": true
   },
   "outputs": [],
   "source": [
    "abr = {\n",
    "    'family':'fam.',\n",
    "    'species':'spe.',\n",
    "    'order':'ord.',\n",
    "    'genus':'gen.',\n",
    "    'superfamily':'s. fam.',\n",
    "    'superorder':'s. ord.'\n",
    "}"
   ]
  },
  {
   "cell_type": "code",
   "execution_count": 3,
   "metadata": {
    "scrolled": false
   },
   "outputs": [],
   "source": [
    "df = pd.read_csv('main_data.csv')"
   ]
  },
  {
   "cell_type": "code",
   "execution_count": 4,
   "metadata": {
    "scrolled": true
   },
   "outputs": [
    {
     "data": {
      "text/html": [
       "<div>\n",
       "<style>\n",
       "    .dataframe thead tr:only-child th {\n",
       "        text-align: right;\n",
       "    }\n",
       "\n",
       "    .dataframe thead th {\n",
       "        text-align: left;\n",
       "    }\n",
       "\n",
       "    .dataframe tbody tr th {\n",
       "        vertical-align: top;\n",
       "    }\n",
       "</style>\n",
       "<table border=\"1\" class=\"dataframe\">\n",
       "  <thead>\n",
       "    <tr style=\"text-align: right;\">\n",
       "      <th></th>\n",
       "      <th>rank</th>\n",
       "      <th>common_name</th>\n",
       "      <th>scientific_name_hyphens</th>\n",
       "      <th>taxonomy_id</th>\n",
       "      <th>keyword1</th>\n",
       "      <th>keyword2</th>\n",
       "      <th>Unnamed: 6</th>\n",
       "    </tr>\n",
       "  </thead>\n",
       "  <tbody>\n",
       "    <tr>\n",
       "      <th>0</th>\n",
       "      <td>family</td>\n",
       "      <td>Sharks</td>\n",
       "      <td>Selachii</td>\n",
       "      <td>119203</td>\n",
       "      <td>shark</td>\n",
       "      <td>NaN</td>\n",
       "      <td>NaN</td>\n",
       "    </tr>\n",
       "    <tr>\n",
       "      <th>1</th>\n",
       "      <td>family</td>\n",
       "      <td>Elephants</td>\n",
       "      <td>Elephantidae</td>\n",
       "      <td>9780</td>\n",
       "      <td>elephant</td>\n",
       "      <td>NaN</td>\n",
       "      <td>NaN</td>\n",
       "    </tr>\n",
       "    <tr>\n",
       "      <th>2</th>\n",
       "      <td>family</td>\n",
       "      <td>Fish (Cartilaginous)</td>\n",
       "      <td>Chondrichthyes</td>\n",
       "      <td>7777</td>\n",
       "      <td>fish</td>\n",
       "      <td>NaN</td>\n",
       "      <td>NaN</td>\n",
       "    </tr>\n",
       "    <tr>\n",
       "      <th>3</th>\n",
       "      <td>family</td>\n",
       "      <td>Parrots</td>\n",
       "      <td>Psittacidae</td>\n",
       "      <td>9224</td>\n",
       "      <td>parrot</td>\n",
       "      <td>NaN</td>\n",
       "      <td>NaN</td>\n",
       "    </tr>\n",
       "    <tr>\n",
       "      <th>4</th>\n",
       "      <td>family</td>\n",
       "      <td>Wolf Spiders</td>\n",
       "      <td>Lycosidae</td>\n",
       "      <td>74973</td>\n",
       "      <td>wolf</td>\n",
       "      <td>spider</td>\n",
       "      <td>NaN</td>\n",
       "    </tr>\n",
       "  </tbody>\n",
       "</table>\n",
       "</div>"
      ],
      "text/plain": [
       "     rank           common_name scientific_name_hyphens  taxonomy_id  \\\n",
       "0  family                Sharks                Selachii       119203   \n",
       "1  family             Elephants            Elephantidae         9780   \n",
       "2  family  Fish (Cartilaginous)          Chondrichthyes         7777   \n",
       "3  family               Parrots             Psittacidae         9224   \n",
       "4  family          Wolf Spiders               Lycosidae        74973   \n",
       "\n",
       "   keyword1 keyword2 Unnamed: 6  \n",
       "0     shark      NaN        NaN  \n",
       "1  elephant      NaN        NaN  \n",
       "2      fish      NaN        NaN  \n",
       "3    parrot      NaN        NaN  \n",
       "4      wolf   spider        NaN  "
      ]
     },
     "execution_count": 4,
     "metadata": {},
     "output_type": "execute_result"
    }
   ],
   "source": [
    "df.head()"
   ]
  },
  {
   "cell_type": "code",
   "execution_count": 5,
   "metadata": {
    "collapsed": true,
    "scrolled": true
   },
   "outputs": [],
   "source": [
    "df['rank'] = df['rank'].map(abr)"
   ]
  },
  {
   "cell_type": "code",
   "execution_count": 6,
   "metadata": {
    "collapsed": true
   },
   "outputs": [],
   "source": [
    "new_names = []\n",
    "for row in df.itertuples():\n",
    "    new = f\"{row.common_name} ({row.rank})\"\n",
    "    new_names.append(new)"
   ]
  },
  {
   "cell_type": "code",
   "execution_count": 7,
   "metadata": {
    "collapsed": true,
    "scrolled": true
   },
   "outputs": [],
   "source": [
    "new_df = pd.DataFrame(df.scientific_name_hyphens)\n",
    "new_df['name'] = new_names"
   ]
  },
  {
   "cell_type": "code",
   "execution_count": 8,
   "metadata": {
    "collapsed": true
   },
   "outputs": [],
   "source": [
    "new_df.to_csv('labels.csv', header=False, index=False)"
   ]
  },
  {
   "cell_type": "code",
   "execution_count": null,
   "metadata": {
    "collapsed": true
   },
   "outputs": [],
   "source": []
  }
 ],
 "metadata": {
  "kernelspec": {
   "display_name": "Python 3",
   "language": "python",
   "name": "python3"
  },
  "language_info": {
   "codemirror_mode": {
    "name": "ipython",
    "version": 3
   },
   "file_extension": ".py",
   "mimetype": "text/x-python",
   "name": "python",
   "nbconvert_exporter": "python",
   "pygments_lexer": "ipython3",
   "version": "3.6.2"
  }
 },
 "nbformat": 4,
 "nbformat_minor": 2
}
